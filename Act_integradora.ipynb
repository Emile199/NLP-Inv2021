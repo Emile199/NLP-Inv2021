{
 "cells": [
  {
   "cell_type": "markdown",
   "metadata": {},
   "source": [
    "# Actividad Integradora 1\n",
    "\n",
    "- Emiliano Etienne Iracheta A00825249"
   ]
  },
  {
   "cell_type": "code",
   "execution_count": 1,
   "metadata": {},
   "outputs": [],
   "source": [
    "#! pip install webdriver_manager"
   ]
  },
  {
   "cell_type": "code",
   "execution_count": 2,
   "metadata": {},
   "outputs": [],
   "source": [
    "from selenium import webdriver\n",
    "from webdriver_manager.chrome import ChromeDriverManager\n",
    "from selenium.webdriver.common.keys import Keys\n",
    "import requests\n",
    "import time\n",
    "import re\n",
    "import os\n",
    "import math"
   ]
  },
  {
   "cell_type": "code",
   "execution_count": 3,
   "metadata": {},
   "outputs": [],
   "source": [
    "query = \"neural networks\" #Tema del cual se buscara en arxiv\n",
    "next_clicks = 0 #Numero de veces que se picara el boton Next"
   ]
  },
  {
   "cell_type": "code",
   "execution_count": 4,
   "metadata": {},
   "outputs": [
    {
     "name": "stderr",
     "output_type": "stream",
     "text": [
      "\n",
      "\n",
      "====== WebDriver manager ======\n",
      "Current google-chrome version is 92.0.4515\n",
      "Get LATEST driver version for 92.0.4515\n",
      "Driver [/Users/ernestogarcia/.wdm/drivers/chromedriver/mac64/92.0.4515.107/chromedriver] found in cache\n"
     ]
    }
   ],
   "source": [
    "driver = webdriver.Chrome(ChromeDriverManager().install())"
   ]
  },
  {
   "cell_type": "code",
   "execution_count": 5,
   "metadata": {},
   "outputs": [],
   "source": [
    "driver.get(\"https://arxiv.org/\") #Entramos a arxiv\n",
    "searcher = driver.find_element_by_name(\"query\") #Encontramos el buscador\n",
    "searcher.send_keys(query) #Enviamos la query\n",
    "searcher.send_keys(Keys.RETURN) #Le damos enter\n",
    "\n",
    "time.sleep(3)\n",
    "\n",
    "anchors = driver.find_elements_by_tag_name('a')\n",
    "hrefs = [a.get_attribute('href') for a in anchors] #Consigues todos los links de la búsqueda\n",
    "pattern = r\"https://arxiv.org/pdf/\" #todos los pdfs tienen la misma ruta https://arxiv.org/pdf/ruta\n",
    "\n"
   ]
  },
  {
   "cell_type": "code",
   "execution_count": 6,
   "metadata": {},
   "outputs": [],
   "source": [
    "links = [] #se crea una lista para almacenar los urls\n",
    "for n  in range(next_clicks+1): #porque el usuario le da clic 3 veces\n",
    "    for i in hrefs:\n",
    "        if not None and re.match(pattern, str(i)): #como no todo son links hay que filtrar e igual para el re.match hay que concatecar a string\n",
    "            links.append(i) #si cumple con la ruta https://arxiv.org/pdf/ se añade a la lista de pdfs\n",
    "    driver.find_element_by_link_text(\"Next\").click() #Se pica al boton Next"
   ]
  },
  {
   "cell_type": "code",
   "execution_count": 7,
   "metadata": {},
   "outputs": [
    {
     "data": {
      "text/plain": [
       "50"
      ]
     },
     "execution_count": 7,
     "metadata": {},
     "output_type": "execute_result"
    }
   ],
   "source": [
    "len(links)#Comprobamos la cantidad de papers"
   ]
  },
  {
   "cell_type": "code",
   "execution_count": 8,
   "metadata": {},
   "outputs": [],
   "source": [
    "pdfs_descargados = []\n",
    "\n",
    "\n",
    "for URL in links: #entra a cada link y guarda el URL para descargar\n",
    "    URL = URL + \"/about:blank\"\n",
    "    pdfs_descargados.append(URL)"
   ]
  },
  {
   "cell_type": "code",
   "execution_count": 9,
   "metadata": {},
   "outputs": [],
   "source": [
    "#Divide la lista de los URLS para descargar en 80% y 20%\n",
    "\n",
    "list_80 = pdfs_descargados[ : math.floor(len(pdfs_descargados)*.80)]\n",
    "list_20 = pdfs_descargados[math.floor(len(pdfs_descargados)*.80) : ]"
   ]
  },
  {
   "cell_type": "code",
   "execution_count": 10,
   "metadata": {},
   "outputs": [],
   "source": [
    "path = os.getcwd() #se ubica en el directorio actual del proyecto\n",
    "#Crea los directorios de train y test\n",
    "directoryT = os.path.join(path, \"train\")\n",
    "directoryt = os.path.join(path, \"test\")\n",
    " #si el directorio no existe lo crea\n",
    "if not os.path.exists(directoryT):\n",
    "    os.mkdir(directoryT)\n",
    "if not os.path.exists(directoryt):\n",
    "    os.mkdir(directoryt)\n",
    "\n",
    "#crea los directorios con la query dentro de train y test\n",
    "directory1 = os.path.join(directoryT,query)\n",
    "directory2 = os.path.join(directoryt,query)\n",
    "#si el directorio no existe lo crea\n",
    "if not os.path.exists(directory1):\n",
    "    os.mkdir(directory1)\n",
    "if not os.path.exists(directory2):\n",
    "    os.mkdir(directory2)\n",
    "\n",
    "i = 0\n",
    "for pdf in list_80:\n",
    "    r = requests.get(pdf)\n",
    "    file_name = os.path.join(directory1, query + str(i) + '.pdf')\n",
    "    with open(file_name, 'wb') as f:\n",
    "        f.write(r.content)\n",
    "    i += 1\n",
    "    \n",
    "i = 0\n",
    "for pdf in list_20:\n",
    "    r = requests.get(pdf)\n",
    "    file_name = os.path.join(directory2, query + str(i) + '.pdf')\n",
    "    with open(file_name, 'wb') as f:\n",
    "        f.write(r.content)\n",
    "    i += 1\n"
   ]
  }
 ],
 "metadata": {
  "interpreter": {
   "hash": "12be46d3898c37c234e9b97e67ef347f3e796714a49df4f98c33bf5b676299e8"
  },
  "kernelspec": {
   "display_name": "Python 3",
   "language": "python",
   "name": "python3"
  },
  "language_info": {
   "codemirror_mode": {
    "name": "ipython",
    "version": 3
   },
   "file_extension": ".py",
   "mimetype": "text/x-python",
   "name": "python",
   "nbconvert_exporter": "python",
   "pygments_lexer": "ipython3",
   "version": "3.8.11"
  }
 },
 "nbformat": 4,
 "nbformat_minor": 2
}
