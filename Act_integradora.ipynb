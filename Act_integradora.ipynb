{
 "metadata": {
  "language_info": {
   "codemirror_mode": {
    "name": "ipython",
    "version": 3
   },
   "file_extension": ".py",
   "mimetype": "text/x-python",
   "name": "python",
   "nbconvert_exporter": "python",
   "pygments_lexer": "ipython3",
   "version": "3.9.6"
  },
  "orig_nbformat": 4,
  "kernelspec": {
   "name": "python3",
   "display_name": "Python 3.9.6 64-bit"
  },
  "interpreter": {
   "hash": "12be46d3898c37c234e9b97e67ef347f3e796714a49df4f98c33bf5b676299e8"
  }
 },
 "nbformat": 4,
 "nbformat_minor": 2,
 "cells": [
  {
   "cell_type": "markdown",
   "source": [
    "# Actividad Integradora 1\n",
    "\n",
    "- Emiliano Etienne Iracheta A00825249"
   ],
   "metadata": {}
  },
  {
   "cell_type": "code",
   "execution_count": 1,
   "source": [
    "#! pip install webdriver_manager"
   ],
   "outputs": [],
   "metadata": {}
  },
  {
   "cell_type": "code",
   "execution_count": 1,
   "source": [
    "from selenium import webdriver\r\n",
    "from webdriver_manager.chrome import ChromeDriverManager\r\n",
    "from selenium.webdriver.common.keys import Keys\r\n",
    "import requests\r\n",
    "import time\r\n",
    "import re\r\n",
    "import os"
   ],
   "outputs": [],
   "metadata": {}
  },
  {
   "cell_type": "code",
   "execution_count": 37,
   "source": [
    "query = \"neural networks\" #Tema del cual se buscara en arxiv\r\n",
    "next_clicks = 2 #Numero de veces que se picara el boton Next"
   ],
   "outputs": [],
   "metadata": {}
  },
  {
   "cell_type": "code",
   "execution_count": 3,
   "source": [
    "driver = webdriver.Chrome(ChromeDriverManager().install())"
   ],
   "outputs": [
    {
     "output_type": "stream",
     "name": "stderr",
     "text": [
      "\n",
      "\n",
      "====== WebDriver manager ======\n",
      "Current google-chrome version is 92.0.4515\n",
      "Get LATEST driver version for 92.0.4515\n",
      "There is no [win32] chromedriver for browser 92.0.4515 in cache\n",
      "Get LATEST driver version for 92.0.4515\n",
      "Trying to download new driver from https://chromedriver.storage.googleapis.com/92.0.4515.107/chromedriver_win32.zip\n",
      "Driver has been saved in cache [C:\\Users\\tanya\\.wdm\\drivers\\chromedriver\\win32\\92.0.4515.107]\n"
     ]
    }
   ],
   "metadata": {}
  },
  {
   "cell_type": "code",
   "execution_count": 45,
   "source": [
    "driver.get(\"https://arxiv.org/\") #Entramos a arxiv\r\n",
    "searcher = driver.find_element_by_name(\"query\") #Encontramos el buscador\r\n",
    "searcher.send_keys(query) #Enviamos la query\r\n",
    "searcher.send_keys(Keys.RETURN) #Le damos enter\r\n",
    "\r\n",
    "time.sleep(3)\r\n",
    "\r\n",
    "anchors = driver.find_elements_by_tag_name('a')\r\n",
    "hrefs = [a.get_attribute('href') for a in anchors] #Consigues todos los links de la búsqueda\r\n",
    "pattern = r\"https://arxiv.org/pdf/\" #todos los pdfs tienen la misma ruta https://arxiv.org/pdf/ruta\r\n",
    "\r\n"
   ],
   "outputs": [],
   "metadata": {}
  },
  {
   "cell_type": "code",
   "execution_count": 46,
   "source": [
    "links = [] #se crea una lista para almacenar los urls\r\n",
    "for n  in range(next_clicks+1): #porque el usuario le da clic 3 veces\r\n",
    "    for i in hrefs:\r\n",
    "        if not None and re.match(pattern, str(i)): #como no todo son links hay que filtrar e igual para el re.match hay que concatecar a string\r\n",
    "            links.append(i) #si cumple con la ruta https://arxiv.org/pdf/ se añade a la lista de pdfs\r\n",
    "    driver.find_element_by_link_text(\"Next\").click() #Se pica al boton Next"
   ],
   "outputs": [],
   "metadata": {}
  },
  {
   "cell_type": "code",
   "execution_count": 47,
   "source": [
    "len(links)#Comprobamos la cantidad de papers"
   ],
   "outputs": [
    {
     "output_type": "execute_result",
     "data": {
      "text/plain": [
       "50"
      ]
     },
     "metadata": {},
     "execution_count": 47
    }
   ],
   "metadata": {}
  },
  {
   "cell_type": "code",
   "execution_count": 41,
   "source": [
    "#esto no funciona, es la prueba para descargar los links\r\n",
    "pdfs_descargados = []\r\n",
    "\r\n",
    "for URL in links:\r\n",
    "    driver.get(URL)\r\n",
    "    time.sleep(3)\r\n",
    "    img = driver.find_elements_by_tag_name('embed')\r\n",
    "    img = [i.get_attribute('src') for i in img]\r\n",
    "    pdfs_descargados.append(img[1])\r\n",
    "\r\n",
    "pdfs_descargados"
   ],
   "outputs": [
    {
     "output_type": "error",
     "ename": "IndexError",
     "evalue": "list index out of range",
     "traceback": [
      "\u001b[1;31m---------------------------------------------------------------------------\u001b[0m",
      "\u001b[1;31mIndexError\u001b[0m                                Traceback (most recent call last)",
      "\u001b[1;32m~\\AppData\\Local\\Temp/ipykernel_22844/1492686016.py\u001b[0m in \u001b[0;36m<module>\u001b[1;34m\u001b[0m\n\u001b[0;32m      6\u001b[0m     \u001b[0mimg\u001b[0m \u001b[1;33m=\u001b[0m \u001b[0mdriver\u001b[0m\u001b[1;33m.\u001b[0m\u001b[0mfind_elements_by_tag_name\u001b[0m\u001b[1;33m(\u001b[0m\u001b[1;34m'embed'\u001b[0m\u001b[1;33m)\u001b[0m\u001b[1;33m\u001b[0m\u001b[1;33m\u001b[0m\u001b[0m\n\u001b[0;32m      7\u001b[0m     \u001b[0mimg\u001b[0m \u001b[1;33m=\u001b[0m \u001b[1;33m[\u001b[0m\u001b[0mi\u001b[0m\u001b[1;33m.\u001b[0m\u001b[0mget_attribute\u001b[0m\u001b[1;33m(\u001b[0m\u001b[1;34m'src'\u001b[0m\u001b[1;33m)\u001b[0m \u001b[1;32mfor\u001b[0m \u001b[0mi\u001b[0m \u001b[1;32min\u001b[0m \u001b[0mimg\u001b[0m\u001b[1;33m]\u001b[0m\u001b[1;33m\u001b[0m\u001b[1;33m\u001b[0m\u001b[0m\n\u001b[1;32m----> 8\u001b[1;33m     \u001b[0mpdfs_descargados\u001b[0m\u001b[1;33m.\u001b[0m\u001b[0mappend\u001b[0m\u001b[1;33m(\u001b[0m\u001b[0mimg\u001b[0m\u001b[1;33m[\u001b[0m\u001b[1;36m1\u001b[0m\u001b[1;33m]\u001b[0m\u001b[1;33m)\u001b[0m\u001b[1;33m\u001b[0m\u001b[1;33m\u001b[0m\u001b[0m\n\u001b[0m\u001b[0;32m      9\u001b[0m \u001b[1;33m\u001b[0m\u001b[0m\n\u001b[0;32m     10\u001b[0m \u001b[0mpdfs_descargados\u001b[0m\u001b[1;33m\u001b[0m\u001b[1;33m\u001b[0m\u001b[0m\n",
      "\u001b[1;31mIndexError\u001b[0m: list index out of range"
     ]
    }
   ],
   "metadata": {}
  },
  {
   "cell_type": "code",
   "execution_count": 34,
   "source": [
    "#Determinamos el 80%\r\n",
    "n_80 = round(next_clicks*0.80*50)\r\n",
    "\r\n",
    "#Separamos la lista\r\n",
    "links_80 = links[:n_80]\r\n",
    "links_20 = links[n_80:]"
   ],
   "outputs": [
    {
     "output_type": "execute_result",
     "data": {
      "text/plain": [
       "['https://arxiv.org/pdf/2108.12399',\n",
       " 'https://arxiv.org/pdf/2108.12375',\n",
       " 'https://arxiv.org/pdf/2108.12344',\n",
       " 'https://arxiv.org/pdf/2108.12326',\n",
       " 'https://arxiv.org/pdf/2108.12320',\n",
       " 'https://arxiv.org/pdf/2108.12313',\n",
       " 'https://arxiv.org/pdf/2108.12284',\n",
       " 'https://arxiv.org/pdf/2108.12276',\n",
       " 'https://arxiv.org/pdf/2108.12238',\n",
       " 'https://arxiv.org/pdf/2108.12229',\n",
       " 'https://arxiv.org/pdf/2108.12209',\n",
       " 'https://arxiv.org/pdf/2108.12177',\n",
       " 'https://arxiv.org/pdf/2108.12173',\n",
       " 'https://arxiv.org/pdf/2108.12165',\n",
       " 'https://arxiv.org/pdf/2108.12146',\n",
       " 'https://arxiv.org/pdf/2108.12133',\n",
       " 'https://arxiv.org/pdf/2108.12132',\n",
       " 'https://arxiv.org/pdf/2108.12131',\n",
       " 'https://arxiv.org/pdf/2108.12124',\n",
       " 'https://arxiv.org/pdf/2108.12100',\n",
       " 'https://arxiv.org/pdf/2108.12081',\n",
       " 'https://arxiv.org/pdf/2108.12080',\n",
       " 'https://arxiv.org/pdf/2108.12074',\n",
       " 'https://arxiv.org/pdf/2108.12056',\n",
       " 'https://arxiv.org/pdf/2108.12055',\n",
       " 'https://arxiv.org/pdf/2108.12035',\n",
       " 'https://arxiv.org/pdf/2108.12023',\n",
       " 'https://arxiv.org/pdf/2108.12016',\n",
       " 'https://arxiv.org/pdf/2108.12006',\n",
       " 'https://arxiv.org/pdf/2108.12001',\n",
       " 'https://arxiv.org/pdf/2108.11994',\n",
       " 'https://arxiv.org/pdf/2108.11993',\n",
       " 'https://arxiv.org/pdf/2108.11985',\n",
       " 'https://arxiv.org/pdf/2108.11956',\n",
       " 'https://arxiv.org/pdf/2108.11954',\n",
       " 'https://arxiv.org/pdf/2108.11943',\n",
       " 'https://arxiv.org/pdf/2108.11939',\n",
       " 'https://arxiv.org/pdf/2108.11925',\n",
       " 'https://arxiv.org/pdf/2108.11923',\n",
       " 'https://arxiv.org/pdf/2108.11898',\n",
       " 'https://arxiv.org/pdf/2108.11880',\n",
       " 'https://arxiv.org/pdf/2108.11849',\n",
       " 'https://arxiv.org/pdf/2108.11845',\n",
       " 'https://arxiv.org/pdf/2108.11838',\n",
       " 'https://arxiv.org/pdf/2108.11824',\n",
       " 'https://arxiv.org/pdf/2108.11809',\n",
       " 'https://arxiv.org/pdf/2108.11800',\n",
       " 'https://arxiv.org/pdf/2108.11798',\n",
       " 'https://arxiv.org/pdf/2108.11785',\n",
       " 'https://arxiv.org/pdf/2108.11775',\n",
       " 'https://arxiv.org/pdf/2108.12399',\n",
       " 'https://arxiv.org/pdf/2108.12375',\n",
       " 'https://arxiv.org/pdf/2108.12344',\n",
       " 'https://arxiv.org/pdf/2108.12326',\n",
       " 'https://arxiv.org/pdf/2108.12320',\n",
       " 'https://arxiv.org/pdf/2108.12313',\n",
       " 'https://arxiv.org/pdf/2108.12284',\n",
       " 'https://arxiv.org/pdf/2108.12276',\n",
       " 'https://arxiv.org/pdf/2108.12238',\n",
       " 'https://arxiv.org/pdf/2108.12229',\n",
       " 'https://arxiv.org/pdf/2108.12209',\n",
       " 'https://arxiv.org/pdf/2108.12177',\n",
       " 'https://arxiv.org/pdf/2108.12173',\n",
       " 'https://arxiv.org/pdf/2108.12165',\n",
       " 'https://arxiv.org/pdf/2108.12146',\n",
       " 'https://arxiv.org/pdf/2108.12133',\n",
       " 'https://arxiv.org/pdf/2108.12132',\n",
       " 'https://arxiv.org/pdf/2108.12131',\n",
       " 'https://arxiv.org/pdf/2108.12124',\n",
       " 'https://arxiv.org/pdf/2108.12100',\n",
       " 'https://arxiv.org/pdf/2108.12081',\n",
       " 'https://arxiv.org/pdf/2108.12080',\n",
       " 'https://arxiv.org/pdf/2108.12074',\n",
       " 'https://arxiv.org/pdf/2108.12056',\n",
       " 'https://arxiv.org/pdf/2108.12055',\n",
       " 'https://arxiv.org/pdf/2108.12035',\n",
       " 'https://arxiv.org/pdf/2108.12023',\n",
       " 'https://arxiv.org/pdf/2108.12016',\n",
       " 'https://arxiv.org/pdf/2108.12006',\n",
       " 'https://arxiv.org/pdf/2108.12001']"
      ]
     },
     "metadata": {},
     "execution_count": 34
    }
   ],
   "metadata": {}
  },
  {
   "cell_type": "code",
   "execution_count": 35,
   "source": [
    "#Comprobamos el la proporción de nuestros datasets\r\n",
    "print(len(links_80)/len(links))\r\n",
    "print(len(links_20)/len(links))"
   ],
   "outputs": [
    {
     "output_type": "stream",
     "name": "stdout",
     "text": [
      "0.5333333333333333\n",
      "0.4666666666666667\n"
     ]
    }
   ],
   "metadata": {}
  },
  {
   "cell_type": "code",
   "execution_count": 10,
   "source": [
    "#Hay Problemas aqui\r\n",
    "#Path de la carpeta donde esta el archivo\r\n",
    "cwd = os.getcwd()\r\n",
    "\r\n",
    "#Creamos los path para las carpetas donde se guardaran los datos\r\n",
    "path_80 = \"/train/\"+query\r\n",
    "path_20 = \"/test/\"+query\r\n",
    "\r\n",
    "#Creamos las carpeta en el directorio donde se encuentra el programa\r\n",
    "os.makedirs(path_80)\r\n",
    "os.makedirs(path_20)"
   ],
   "outputs": [
    {
     "output_type": "error",
     "ename": "FileExistsError",
     "evalue": "[WinError 183] Cannot create a file when that file already exists: '/train/neural networks'",
     "traceback": [
      "\u001b[1;31m---------------------------------------------------------------------------\u001b[0m",
      "\u001b[1;31mFileExistsError\u001b[0m                           Traceback (most recent call last)",
      "\u001b[1;32m~\\AppData\\Local\\Temp/ipykernel_22844/3651759025.py\u001b[0m in \u001b[0;36m<module>\u001b[1;34m\u001b[0m\n\u001b[0;32m      8\u001b[0m \u001b[1;33m\u001b[0m\u001b[0m\n\u001b[0;32m      9\u001b[0m \u001b[1;31m#Creamos las carpeta en el directorio donde se encuentra el programa\u001b[0m\u001b[1;33m\u001b[0m\u001b[1;33m\u001b[0m\u001b[1;33m\u001b[0m\u001b[0m\n\u001b[1;32m---> 10\u001b[1;33m \u001b[0mos\u001b[0m\u001b[1;33m.\u001b[0m\u001b[0mmakedirs\u001b[0m\u001b[1;33m(\u001b[0m\u001b[0mpath_80\u001b[0m\u001b[1;33m)\u001b[0m\u001b[1;33m\u001b[0m\u001b[1;33m\u001b[0m\u001b[0m\n\u001b[0m\u001b[0;32m     11\u001b[0m \u001b[0mos\u001b[0m\u001b[1;33m.\u001b[0m\u001b[0mmakedirs\u001b[0m\u001b[1;33m(\u001b[0m\u001b[0mpath_20\u001b[0m\u001b[1;33m)\u001b[0m\u001b[1;33m\u001b[0m\u001b[1;33m\u001b[0m\u001b[0m\n",
      "\u001b[1;32m~\\AppData\\Local\\Programs\\Python\\Python39\\lib\\os.py\u001b[0m in \u001b[0;36mmakedirs\u001b[1;34m(name, mode, exist_ok)\u001b[0m\n\u001b[0;32m    223\u001b[0m             \u001b[1;32mreturn\u001b[0m\u001b[1;33m\u001b[0m\u001b[1;33m\u001b[0m\u001b[0m\n\u001b[0;32m    224\u001b[0m     \u001b[1;32mtry\u001b[0m\u001b[1;33m:\u001b[0m\u001b[1;33m\u001b[0m\u001b[1;33m\u001b[0m\u001b[0m\n\u001b[1;32m--> 225\u001b[1;33m         \u001b[0mmkdir\u001b[0m\u001b[1;33m(\u001b[0m\u001b[0mname\u001b[0m\u001b[1;33m,\u001b[0m \u001b[0mmode\u001b[0m\u001b[1;33m)\u001b[0m\u001b[1;33m\u001b[0m\u001b[1;33m\u001b[0m\u001b[0m\n\u001b[0m\u001b[0;32m    226\u001b[0m     \u001b[1;32mexcept\u001b[0m \u001b[0mOSError\u001b[0m\u001b[1;33m:\u001b[0m\u001b[1;33m\u001b[0m\u001b[1;33m\u001b[0m\u001b[0m\n\u001b[0;32m    227\u001b[0m         \u001b[1;31m# Cannot rely on checking for EEXIST, since the operating system\u001b[0m\u001b[1;33m\u001b[0m\u001b[1;33m\u001b[0m\u001b[1;33m\u001b[0m\u001b[0m\n",
      "\u001b[1;31mFileExistsError\u001b[0m: [WinError 183] Cannot create a file when that file already exists: '/train/neural networks'"
     ]
    }
   ],
   "metadata": {}
  },
  {
   "cell_type": "code",
   "execution_count": 43,
   "source": [
    "cwd"
   ],
   "outputs": [
    {
     "output_type": "execute_result",
     "data": {
      "text/plain": [
       "'/Users/Emi/Documents/MyRepositories/NLPTeamWork/NLPTeam'"
      ]
     },
     "metadata": {},
     "execution_count": 43
    }
   ],
   "metadata": {}
  },
  {
   "cell_type": "code",
   "execution_count": null,
   "source": [],
   "outputs": [],
   "metadata": {}
  }
 ]
}